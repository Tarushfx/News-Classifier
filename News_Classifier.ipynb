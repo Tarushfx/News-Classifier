{
  "nbformat": 4,
  "nbformat_minor": 0,
  "metadata": {
    "colab": {
      "name": "News Classifier.ipynb",
      "provenance": [],
      "collapsed_sections": [],
      "toc_visible": true,
      "include_colab_link": true
    },
    "kernelspec": {
      "display_name": "Python 3",
      "name": "python3"
    },
    "language_info": {
      "name": "python"
    }
  },
  "cells": [
    {
      "cell_type": "markdown",
      "metadata": {
        "id": "view-in-github",
        "colab_type": "text"
      },
      "source": [
        "<a href=\"https://colab.research.google.com/github/Tarushfx/News-Classifier/blob/main/News_Classifier.ipynb\" target=\"_parent\"><img src=\"https://colab.research.google.com/assets/colab-badge.svg\" alt=\"Open In Colab\"/></a>"
      ]
    },
    {
      "cell_type": "markdown",
      "metadata": {
        "id": "CxvlFtOYE77J"
      },
      "source": [
        "# **ML PROJECT**\n",
        "> TOPIC : NEWS CLASSIFICATION\n",
        "\n"
      ]
    },
    {
      "cell_type": "markdown",
      "metadata": {
        "id": "hI7mG8NYFK5P"
      },
      "source": [
        "---"
      ]
    },
    {
      "cell_type": "markdown",
      "metadata": {
        "id": "RuADytbgFFP9"
      },
      "source": [
        "**Problem Statement** : For the last few years, text mining has been gaining significant importance. Since Knowledge is now available to users through variety of sources i.e. electronic media, digital media, print media, and many more. Due to huge availability of text in numerous forms, a lot of unstructured data has been recorded by research experts. News classification is a part of one such problem."
      ]
    },
    {
      "cell_type": "markdown",
      "metadata": {
        "id": "75w1eyz3FH0k"
      },
      "source": [
        "**Possible Solution** : There are numerous ways to convert scattered data into defined structured volume. In this project, for news classification, we have used text classification process."
      ]
    },
    {
      "cell_type": "code",
      "metadata": {
        "id": "U9Ps5qoxfHAl"
      },
      "source": [
        "# Configuration\n",
        "# ************* Make sure to add your kaggle.json here ***********\n",
        "import os\n",
        "# ********** TODO: hardcoding the Kaggle API key ****************\n",
        "# with open(\"kaggle.json\", \"w\") as f:\n",
        "#   f.write(\"\"\"YOUR KAGGLE KEYS Go HERE\"\"\")\n",
        "os.environ['KAGGLE_CONFIG_DIR'] = '.'\n",
        "!chmod 600 kaggle.json"
      ],
      "execution_count": null,
      "outputs": []
    },
    {
      "cell_type": "code",
      "metadata": {
        "id": "mIk4q5Qwgzff",
        "colab": {
          "base_uri": "https://localhost:8080/"
        },
        "outputId": "ceec11a9-3f6d-4b8a-a724-02f09a6bd44a"
      },
      "source": [
        "# Getting the Dataset\n",
        "!kaggle competitions download -c learn-ai-bbc\n",
        "\n",
        "import zipfile\n",
        "DATASET_NAME = \"BBC News \"\n",
        "#Unzipping the dataset\n",
        "for t in [\"BBC%20News%20Test.csv.zip\", \"BBC%20News%20Train.csv.zip\"] :\n",
        "  zip_path = os.path.join(os.getcwd(), t)\n",
        "  with zipfile.ZipFile(zip_path, 'r') as zip_file:\n",
        "      zip_file.extractall(os.getcwd())\n",
        "\n",
        "TRAIN_DATA = os.path.join(os.getcwd(), \"BBC News Train.csv\")\n",
        "TEST_DATA = os.path.join(os.getcwd(), \"BBC News Test.csv\")"
      ],
      "execution_count": null,
      "outputs": [
        {
          "output_type": "stream",
          "name": "stdout",
          "text": [
            "Warning: Looks like you're using an outdated API Version, please consider updating (server 1.5.12 / client 1.5.4)\n",
            "BBC%20News%20Sample%20Solution.csv: Skipping, found more recently modified local copy (use --force to force download)\n",
            "BBC%20News%20Test.csv.zip: Skipping, found more recently modified local copy (use --force to force download)\n",
            "BBC%20News%20Train.csv.zip: Skipping, found more recently modified local copy (use --force to force download)\n"
          ]
        }
      ]
    },
    {
      "cell_type": "code",
      "metadata": {
        "id": "nWBMrC99iz9Y"
      },
      "source": [
        "import numpy as np\n",
        "import pandas as pd\n",
        "import matplotlib as mpl\n",
        "import matplotlib.pyplot as plt\n",
        "import seaborn as sns\n",
        "import tensorflow as tf\n",
        "import nltk\n",
        "import sklearn\n",
        "\n",
        "mpl.rc('axes', labelsize=14)\n",
        "mpl.rc('xtick', labelsize=14)\n",
        "mpl.rc('ytick', labelsize=14)\n",
        "mpl.rcParams['font.size'] = 14\n",
        "# plt.style.use('seaborn-dark')"
      ],
      "execution_count": null,
      "outputs": []
    },
    {
      "cell_type": "code",
      "metadata": {
        "id": "1S3rTI4bCF02"
      },
      "source": [
        "from tensorflow import keras\n",
        "from keras.preprocessing.text import text_to_word_sequence\n",
        "from nltk.corpus import stopwords\n",
        "from nltk.stem import PorterStemmer\n",
        "from nltk.stem import WordNetLemmatizer\n",
        "from nltk.corpus import wordnet\n",
        "from sklearn.feature_extraction.text import TfidfVectorizer\n",
        "from sklearn.feature_extraction.text import TfidfTransformer\n",
        "from sklearn.feature_extraction.text import CountVectorizer\n",
        "from sklearn.model_selection import train_test_split\n",
        "from sklearn import svm\n",
        "from sklearn.naive_bayes import MultinomialNB\n",
        "from sklearn.naive_bayes import GaussianNB\n",
        "from sklearn.metrics import roc_auc_score\n",
        "from sklearn.pipeline import Pipeline\n",
        "from sklearn.metrics import classification_report\n",
        "from sklearn.metrics import accuracy_score\n",
        "from sklearn.tree import DecisionTreeClassifier\n",
        "from sklearn.ensemble import RandomForestClassifier\n",
        "from sklearn.metrics import confusion_matrix, ConfusionMatrixDisplay"
      ],
      "execution_count": null,
      "outputs": []
    },
    {
      "cell_type": "markdown",
      "metadata": {
        "id": "ei5UNaZ0FfAA"
      },
      "source": [
        "## Dataset"
      ]
    },
    {
      "cell_type": "code",
      "metadata": {
        "id": "EdhUdeH1DCEc"
      },
      "source": [
        "dataset = pd.read_csv(TRAIN_DATA)\n",
        "validation_set = pd.read_csv(TEST_DATA)"
      ],
      "execution_count": null,
      "outputs": []
    },
    {
      "cell_type": "code",
      "metadata": {
        "id": "S8T0fd-UDLMm",
        "colab": {
          "base_uri": "https://localhost:8080/"
        },
        "outputId": "69242869-0b46-44fa-d94c-60cc57b9d8a6"
      },
      "source": [
        "dataset.info()"
      ],
      "execution_count": null,
      "outputs": [
        {
          "output_type": "stream",
          "name": "stdout",
          "text": [
            "<class 'pandas.core.frame.DataFrame'>\n",
            "RangeIndex: 1490 entries, 0 to 1489\n",
            "Data columns (total 3 columns):\n",
            " #   Column     Non-Null Count  Dtype \n",
            "---  ------     --------------  ----- \n",
            " 0   ArticleId  1490 non-null   int64 \n",
            " 1   Text       1490 non-null   object\n",
            " 2   Category   1490 non-null   object\n",
            "dtypes: int64(1), object(2)\n",
            "memory usage: 35.0+ KB\n"
          ]
        }
      ]
    },
    {
      "cell_type": "code",
      "metadata": {
        "id": "jOIcTdvdDOKB",
        "colab": {
          "base_uri": "https://localhost:8080/"
        },
        "outputId": "9b084201-8c42-4f9a-aeb9-e3e430ceed7c"
      },
      "source": [
        "# CATEGORIES OF NEWS\n",
        "target_category = dataset['Category'].unique()\n",
        "print(target_category)"
      ],
      "execution_count": null,
      "outputs": [
        {
          "output_type": "stream",
          "name": "stdout",
          "text": [
            "['business' 'tech' 'politics' 'sport' 'entertainment']\n"
          ]
        }
      ]
    },
    {
      "cell_type": "code",
      "metadata": {
        "id": "ABXWca98DfK7",
        "colab": {
          "base_uri": "https://localhost:8080/",
          "height": 206
        },
        "outputId": "41876383-0464-4662-b3d0-7159110c434e"
      },
      "source": [
        "# CATEGORY ID FOR EACH UNIQUE CATEGORY\n",
        "dataset['categoryId'] = dataset['Category'].factorize()[0]\n",
        "dataset.head()"
      ],
      "execution_count": null,
      "outputs": [
        {
          "output_type": "execute_result",
          "data": {
            "text/html": [
              "<div>\n",
              "<style scoped>\n",
              "    .dataframe tbody tr th:only-of-type {\n",
              "        vertical-align: middle;\n",
              "    }\n",
              "\n",
              "    .dataframe tbody tr th {\n",
              "        vertical-align: top;\n",
              "    }\n",
              "\n",
              "    .dataframe thead th {\n",
              "        text-align: right;\n",
              "    }\n",
              "</style>\n",
              "<table border=\"1\" class=\"dataframe\">\n",
              "  <thead>\n",
              "    <tr style=\"text-align: right;\">\n",
              "      <th></th>\n",
              "      <th>ArticleId</th>\n",
              "      <th>Text</th>\n",
              "      <th>Category</th>\n",
              "      <th>categoryId</th>\n",
              "    </tr>\n",
              "  </thead>\n",
              "  <tbody>\n",
              "    <tr>\n",
              "      <th>0</th>\n",
              "      <td>1833</td>\n",
              "      <td>worldcom ex-boss launches defence lawyers defe...</td>\n",
              "      <td>business</td>\n",
              "      <td>0</td>\n",
              "    </tr>\n",
              "    <tr>\n",
              "      <th>1</th>\n",
              "      <td>154</td>\n",
              "      <td>german business confidence slides german busin...</td>\n",
              "      <td>business</td>\n",
              "      <td>0</td>\n",
              "    </tr>\n",
              "    <tr>\n",
              "      <th>2</th>\n",
              "      <td>1101</td>\n",
              "      <td>bbc poll indicates economic gloom citizens in ...</td>\n",
              "      <td>business</td>\n",
              "      <td>0</td>\n",
              "    </tr>\n",
              "    <tr>\n",
              "      <th>3</th>\n",
              "      <td>1976</td>\n",
              "      <td>lifestyle  governs mobile choice  faster  bett...</td>\n",
              "      <td>tech</td>\n",
              "      <td>1</td>\n",
              "    </tr>\n",
              "    <tr>\n",
              "      <th>4</th>\n",
              "      <td>917</td>\n",
              "      <td>enron bosses in $168m payout eighteen former e...</td>\n",
              "      <td>business</td>\n",
              "      <td>0</td>\n",
              "    </tr>\n",
              "  </tbody>\n",
              "</table>\n",
              "</div>"
            ],
            "text/plain": [
              "   ArticleId  ... categoryId\n",
              "0       1833  ...          0\n",
              "1        154  ...          0\n",
              "2       1101  ...          0\n",
              "3       1976  ...          1\n",
              "4        917  ...          0\n",
              "\n",
              "[5 rows x 4 columns]"
            ]
          },
          "metadata": {},
          "execution_count": 8
        }
      ]
    },
    {
      "cell_type": "code",
      "metadata": {
        "id": "fPC2jMyADhcr",
        "colab": {
          "base_uri": "https://localhost:8080/",
          "height": 206
        },
        "outputId": "d2491a89-ac02-48b9-f740-4110c7db1f58"
      },
      "source": [
        "category = dataset[[\"Category\",\"categoryId\"]].drop_duplicates().sort_values('categoryId')\n",
        "category"
      ],
      "execution_count": null,
      "outputs": [
        {
          "output_type": "execute_result",
          "data": {
            "text/html": [
              "<div>\n",
              "<style scoped>\n",
              "    .dataframe tbody tr th:only-of-type {\n",
              "        vertical-align: middle;\n",
              "    }\n",
              "\n",
              "    .dataframe tbody tr th {\n",
              "        vertical-align: top;\n",
              "    }\n",
              "\n",
              "    .dataframe thead th {\n",
              "        text-align: right;\n",
              "    }\n",
              "</style>\n",
              "<table border=\"1\" class=\"dataframe\">\n",
              "  <thead>\n",
              "    <tr style=\"text-align: right;\">\n",
              "      <th></th>\n",
              "      <th>Category</th>\n",
              "      <th>categoryId</th>\n",
              "    </tr>\n",
              "  </thead>\n",
              "  <tbody>\n",
              "    <tr>\n",
              "      <th>0</th>\n",
              "      <td>business</td>\n",
              "      <td>0</td>\n",
              "    </tr>\n",
              "    <tr>\n",
              "      <th>3</th>\n",
              "      <td>tech</td>\n",
              "      <td>1</td>\n",
              "    </tr>\n",
              "    <tr>\n",
              "      <th>5</th>\n",
              "      <td>politics</td>\n",
              "      <td>2</td>\n",
              "    </tr>\n",
              "    <tr>\n",
              "      <th>6</th>\n",
              "      <td>sport</td>\n",
              "      <td>3</td>\n",
              "    </tr>\n",
              "    <tr>\n",
              "      <th>7</th>\n",
              "      <td>entertainment</td>\n",
              "      <td>4</td>\n",
              "    </tr>\n",
              "  </tbody>\n",
              "</table>\n",
              "</div>"
            ],
            "text/plain": [
              "        Category  categoryId\n",
              "0       business           0\n",
              "3           tech           1\n",
              "5       politics           2\n",
              "6          sport           3\n",
              "7  entertainment           4"
            ]
          },
          "metadata": {},
          "execution_count": 9
        }
      ]
    },
    {
      "cell_type": "code",
      "metadata": {
        "id": "SOfetUM4DjV0",
        "colab": {
          "base_uri": "https://localhost:8080/"
        },
        "outputId": "920d0a26-710f-488c-df7a-409ee9f2dbed"
      },
      "source": [
        "# COUNT OF NEWS OF EACH CATEGORY\n",
        "dataset.groupby('Category').categoryId.count()"
      ],
      "execution_count": null,
      "outputs": [
        {
          "output_type": "execute_result",
          "data": {
            "text/plain": [
              "Category\n",
              "business         336\n",
              "entertainment    273\n",
              "politics         274\n",
              "sport            346\n",
              "tech             261\n",
              "Name: categoryId, dtype: int64"
            ]
          },
          "metadata": {},
          "execution_count": 10
        }
      ]
    },
    {
      "cell_type": "code",
      "metadata": {
        "id": "9qiRBfh7DlOt",
        "colab": {
          "base_uri": "https://localhost:8080/",
          "height": 451
        },
        "outputId": "fedd5520-40b0-4836-cb28-c0a82b339271"
      },
      "source": [
        "# df=dataset.groupby('Category').categoryId.count()\n",
        "sns.countplot(dataset.Category,palette=\"pastel\")\n",
        "# sns.color_palette(\"pastel\")\n",
        "fig=plt.gcf()\n",
        "fig.set_size_inches(6,6)\n",
        "\n",
        "# df"
      ],
      "execution_count": null,
      "outputs": [
        {
          "output_type": "stream",
          "name": "stderr",
          "text": [
            "/usr/local/lib/python3.7/dist-packages/seaborn/_decorators.py:43: FutureWarning: Pass the following variable as a keyword arg: x. From version 0.12, the only valid positional argument will be `data`, and passing other arguments without an explicit keyword will result in an error or misinterpretation.\n",
            "  FutureWarning\n"
          ]
        },
        {
          "output_type": "display_data",
          "data": {
            "image/png": "[encoded data removed]",
            "text/plain": [
              "<Figure size 432x432 with 1 Axes>"
            ]
          },
          "metadata": {
            "needs_background": "light"
          }
        }
      ]
    },
    {
      "cell_type": "code",
      "metadata": {
        "id": "00fvIiPxDnlb",
        "colab": {
          "base_uri": "https://localhost:8080/"
        },
        "outputId": "fbc3362e-8fa8-4b77-edd4-2f1abe12b62f"
      },
      "source": [
        "text = dataset[\"Text\"] \n",
        "text.head()"
      ],
      "execution_count": null,
      "outputs": [
        {
          "output_type": "execute_result",
          "data": {
            "text/plain": [
              "0    worldcom ex-boss launches defence lawyers defe...\n",
              "1    german business confidence slides german busin...\n",
              "2    bbc poll indicates economic gloom citizens in ...\n",
              "3    lifestyle  governs mobile choice  faster  bett...\n",
              "4    enron bosses in $168m payout eighteen former e...\n",
              "Name: Text, dtype: object"
            ]
          },
          "metadata": {},
          "execution_count": 12
        }
      ]
    },
    {
      "cell_type": "code",
      "metadata": {
        "id": "aaJCwt9xDppk",
        "colab": {
          "base_uri": "https://localhost:8080/"
        },
        "outputId": "ba7cc350-fd6c-4991-c588-faa57fb06323"
      },
      "source": [
        "category = dataset[\"Category\"]\n",
        "category.head()"
      ],
      "execution_count": null,
      "outputs": [
        {
          "output_type": "execute_result",
          "data": {
            "text/plain": [
              "0    business\n",
              "1    business\n",
              "2    business\n",
              "3        tech\n",
              "4    business\n",
              "Name: Category, dtype: object"
            ]
          },
          "metadata": {},
          "execution_count": 13
        }
      ]
    },
    {
      "cell_type": "markdown",
      "metadata": {
        "id": "GfDfcbzGDsrw"
      },
      "source": [
        "# Data Preprocessing"
      ]
    },
    {
      "cell_type": "code",
      "metadata": {
        "id": "upXsXw6QDrtM"
      },
      "source": [
        "def preprocessDataset(train_text):\n",
        "       \n",
        "    #word tokenization using text-to-word-sequence\n",
        "    train_text= str(train_text)\n",
        "    tokenized_train_set = text_to_word_sequence(train_text,filters='!\"#$%&()*+,-./:;<=>?@[\\\\]^_`{|}~\\t\\n',lower=True,split=\" \")\n",
        "        \n",
        "    #stop word removal\n",
        "    stop_words = set(stopwords.words('english'))\n",
        "    stopwordremove = [i for i in tokenized_train_set if not i in stop_words]\n",
        "        \n",
        "     \n",
        "    #join words into sentence\n",
        "    stopwordremove_text = ' '.join(stopwordremove)\n",
        "        \n",
        "        \n",
        "    #remove numbers\n",
        "    numberremove_text = ''.join(c for c in stopwordremove_text if not c.isdigit())\n",
        "       \n",
        "        \n",
        "    #--Stemming--\n",
        "    stemmer= PorterStemmer()\n",
        "\n",
        "    stem_input=nltk.word_tokenize(numberremove_text)\n",
        "    stem_text=' '.join([stemmer.stem(word) for word in stem_input])\n",
        "        \n",
        "        \n",
        "    lemmatizer = WordNetLemmatizer()\n",
        "\n",
        "    def get_wordnet_pos(word):\n",
        "        \"\"\"Map POS tag to first character lemmatize() accepts\"\"\"\n",
        "        tag = nltk.pos_tag([word])[0][1][0].upper()\n",
        "        tag_dict = {\"J\": wordnet.ADJ,\n",
        "                \"N\": wordnet.NOUN,\n",
        "                \"V\": wordnet.VERB,\n",
        "                \"R\": wordnet.ADV}\n",
        "\n",
        "        return tag_dict.get(tag, wordnet.NOUN)\n",
        "\n",
        "    lem_input = nltk.word_tokenize(stem_text)\n",
        "    lem_text= ' '.join([lemmatizer.lemmatize(w, get_wordnet_pos(w)) for w in lem_input])\n",
        "        \n",
        "    return lem_text"
      ],
      "execution_count": null,
      "outputs": []
    },
    {
      "cell_type": "code",
      "metadata": {
        "id": "QTajfA4hDziK",
        "colab": {
          "base_uri": "https://localhost:8080/"
        },
        "outputId": "882d71cd-7a6c-4db3-83cd-2831530aaaa4"
      },
      "source": [
        "dataset['Text'] = dataset['Text'].apply(preprocessDataset)\n",
        "text = dataset['Text']\n",
        "category = dataset['Category']\n",
        "text.head()"
      ],
      "execution_count": null,
      "outputs": [
        {
          "output_type": "execute_result",
          "data": {
            "text/plain": [
              "0    worldcom ex bos launch defenc lawyer defend fo...\n",
              "1    german busi confid slide german busi confid fe...\n",
              "2    bbc poll indic econom gloom citizen major nati...\n",
              "3    lifestyl govern mobil choic faster well funkie...\n",
              "4    enron bos m payout eighteen former enron direc...\n",
              "Name: Text, dtype: object"
            ]
          },
          "metadata": {},
          "execution_count": 15
        }
      ]
    },
    {
      "cell_type": "code",
      "metadata": {
        "id": "urUL72H73LOY",
        "colab": {
          "base_uri": "https://localhost:8080/"
        },
        "outputId": "6b62360a-7b11-494a-e507-e3c85c7cb946"
      },
      "source": [
        "# Test Train split\n",
        "X_train, X_test, Y_train, Y_test = train_test_split(text,category, test_size = 0.3, random_state = 60,shuffle=True, stratify=category)\n",
        "\n",
        "X_train.size,X_test.size"
      ],
      "execution_count": null,
      "outputs": [
        {
          "output_type": "execute_result",
          "data": {
            "text/plain": [
              "(1043, 447)"
            ]
          },
          "metadata": {},
          "execution_count": 16
        }
      ]
    },
    {
      "cell_type": "markdown",
      "metadata": {
        "id": "Cftkb1HxFkzb"
      },
      "source": [
        "# **Models for Classification**\n",
        "\n",
        "## Multinomial Naive Bayes\n"
      ]
    },
    {
      "cell_type": "code",
      "metadata": {
        "id": "27kUL6SZ4R68",
        "colab": {
          "base_uri": "https://localhost:8080/"
        },
        "outputId": "5cae0e39-f2c5-4412-c615-1b64d1a0b784"
      },
      "source": [
        "nb = Pipeline([('tfidf', TfidfVectorizer()),\n",
        "               ('clf', MultinomialNB()),\n",
        "              ])\n",
        "nb.fit(X_train,Y_train)\n",
        "\n",
        "test_predict = nb.predict(X_test)\n",
        "\n",
        "train_accuracy = round(nb.score(X_train,Y_train)*100)\n",
        "test_accuracy =round(accuracy_score(test_predict, Y_test)*100)\n",
        "\n",
        "\n",
        "print(\"Naive Bayes Train Accuracy Score : {}% \".format(train_accuracy ))\n",
        "print(\"Naive Bayes Test Accuracy Score  : {}% \".format(test_accuracy ), end=\"\\n\\n\")\n",
        "print(classification_report(test_predict, Y_test, target_names=target_category))"
      ],
      "execution_count": null,
      "outputs": [
        {
          "output_type": "stream",
          "name": "stdout",
          "text": [
            "Naive Bayes Train Accuracy Score : 99% \n",
            "Naive Bayes Test Accuracy Score  : 96% \n",
            "\n",
            "               precision    recall  f1-score   support\n",
            "\n",
            "     business       0.98      0.94      0.96       105\n",
            "         tech       0.93      1.00      0.96        76\n",
            "     politics       0.93      0.94      0.93        81\n",
            "        sport       1.00      0.98      0.99       106\n",
            "entertainment       0.96      0.95      0.96        79\n",
            "\n",
            "     accuracy                           0.96       447\n",
            "    macro avg       0.96      0.96      0.96       447\n",
            " weighted avg       0.96      0.96      0.96       447\n",
            "\n"
          ]
        }
      ]
    },
    {
      "cell_type": "markdown",
      "metadata": {
        "id": "Tvso8KML4fXv"
      },
      "source": [
        "## Decision Trees"
      ]
    },
    {
      "cell_type": "code",
      "metadata": {
        "id": "QZWBf4fs4XzU",
        "colab": {
          "base_uri": "https://localhost:8080/"
        },
        "outputId": "08728756-dfcd-4701-f1b9-172c6a9b7d73"
      },
      "source": [
        "dt = Pipeline([('tfidf', TfidfVectorizer()),\n",
        "                ('dt', DecisionTreeClassifier()),\n",
        "               ])\n",
        "\n",
        "dt.fit(X_train, Y_train)\n",
        "\n",
        "test_predict = dt.predict(X_test)\n",
        "\n",
        "train_accuracy = round(dt.score(X_train,Y_train)*100)\n",
        "test_accuracy =round(accuracy_score(test_predict, Y_test)*100)\n",
        "\n",
        "print(\"Decision Tree Train Accuracy Score : {}% \".format(train_accuracy ))\n",
        "print(\"Decision Tree Test Accuracy Score  : {}% \".format(test_accuracy ), end=\"\\n\\n\")\n",
        "print(classification_report(test_predict, Y_test, target_names=target_category))"
      ],
      "execution_count": null,
      "outputs": [
        {
          "output_type": "stream",
          "name": "stdout",
          "text": [
            "Decision Tree Train Accuracy Score : 100% \n",
            "Decision Tree Test Accuracy Score  : 80% \n",
            "\n",
            "               precision    recall  f1-score   support\n",
            "\n",
            "     business       0.69      0.82      0.75        85\n",
            "         tech       0.72      0.86      0.78        69\n",
            "     politics       0.80      0.75      0.78        88\n",
            "        sport       0.95      0.79      0.86       126\n",
            "entertainment       0.79      0.78      0.79        79\n",
            "\n",
            "     accuracy                           0.80       447\n",
            "    macro avg       0.79      0.80      0.79       447\n",
            " weighted avg       0.81      0.80      0.80       447\n",
            "\n"
          ]
        }
      ]
    },
    {
      "cell_type": "markdown",
      "metadata": {
        "id": "zdpx6FOk46jT"
      },
      "source": [
        "# Random forest Classifier"
      ]
    },
    {
      "cell_type": "code",
      "metadata": {
        "id": "Kk_01H0q4-9p",
        "colab": {
          "base_uri": "https://localhost:8080/"
        },
        "outputId": "eed00f3e-1dc5-4aa2-816e-30dc99e2b99d"
      },
      "source": [
        "rfc = Pipeline([('tfidf', TfidfVectorizer()),\n",
        "                ('rfc', RandomForestClassifier(n_estimators=100)),\n",
        "               ])\n",
        "\n",
        "rfc.fit(X_train, Y_train)\n",
        "\n",
        "test_predict = rfc.predict(X_test)\n",
        "\n",
        "train_accuracy = round(rfc.score(X_train,Y_train)*100)\n",
        "test_accuracy =round(accuracy_score(test_predict, Y_test)*100)\n",
        "\n",
        "print(\"Random Forest Train Accuracy Score : {}% \".format(train_accuracy ))\n",
        "print(\"Random Forest Test Accuracy Score  : {}% \".format(test_accuracy ))\n",
        "print()\n",
        "print(classification_report(test_predict, Y_test, target_names=target_category))"
      ],
      "execution_count": null,
      "outputs": [
        {
          "output_type": "stream",
          "name": "stdout",
          "text": [
            "Random Forest Train Accuracy Score : 100% \n",
            "Random Forest Test Accuracy Score  : 94% \n",
            "\n",
            "               precision    recall  f1-score   support\n",
            "\n",
            "     business       0.97      0.90      0.93       109\n",
            "         tech       0.91      0.99      0.95        76\n",
            "     politics       0.89      0.91      0.90        80\n",
            "        sport       1.00      0.96      0.98       108\n",
            "entertainment       0.91      0.96      0.93        74\n",
            "\n",
            "     accuracy                           0.94       447\n",
            "    macro avg       0.94      0.94      0.94       447\n",
            " weighted avg       0.94      0.94      0.94       447\n",
            "\n"
          ]
        }
      ]
    },
    {
      "cell_type": "code",
      "metadata": {
        "id": "x9H8TaBO7TlY",
        "colab": {
          "base_uri": "https://localhost:8080/",
          "height": 583
        },
        "outputId": "40a5f6e1-94ed-40c6-cc3b-c9db12ac2490"
      },
      "source": [
        "fig, ax = plt.subplots(figsize=(10, 10))\n",
        "# cm = confusion_matrix(Y_test, test_predict)\n",
        "disp = ConfusionMatrixDisplay.from_estimator(rfc,X_test,Y_test,cmap=\"crest\", ax=ax,display_labels=target_category)\n",
        "# disp.plot(ax=ax)\n",
        "ax.set_title(\"Random Forest Confusion Matrix\")\n",
        "\n",
        "fig.savefig(\"CM\")\n",
        "plt.show()"
      ],
      "execution_count": null,
      "outputs": [
        {
          "output_type": "display_data",
          "data": {
            "image/png": "[encoded data removed]",
            "text/plain": [
              "<Figure size 720x720 with 2 Axes>"
            ]
          },
          "metadata": {
            "needs_background": "light"
          }
        }
      ]
    }
  ]
}